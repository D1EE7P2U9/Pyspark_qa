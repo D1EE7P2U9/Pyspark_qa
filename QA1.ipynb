{
  "nbformat": 4,
  "nbformat_minor": 0,
  "metadata": {
    "colab": {
      "provenance": []
    },
    "kernelspec": {
      "name": "python3",
      "display_name": "Python 3"
    },
    "language_info": {
      "name": "python"
    }
  },
  "cells": [
    {
      "cell_type": "markdown",
      "source": [
        "# **Filter a PySpark DataFrame to keep only the rows that fall within a specified range**"
      ],
      "metadata": {
        "id": "QT3noV6JzTMJ"
      }
    },
    {
      "cell_type": "code",
      "execution_count": 1,
      "metadata": {
        "colab": {
          "base_uri": "https://localhost:8080/"
        },
        "id": "WJxsInnxvBjP",
        "outputId": "89c1d507-7b73-4911-97f2-d8cb59a88f86"
      },
      "outputs": [
        {
          "output_type": "stream",
          "name": "stdout",
          "text": [
            "Collecting pyspark\n",
            "  Downloading pyspark-3.5.0.tar.gz (316.9 MB)\n",
            "\u001b[2K     \u001b[90m━━━━━━━━━━━━━━━━━━━━━━━━━━━━━━━━━━━━━━━━\u001b[0m \u001b[32m316.9/316.9 MB\u001b[0m \u001b[31m1.7 MB/s\u001b[0m eta \u001b[36m0:00:00\u001b[0m\n",
            "\u001b[?25h  Preparing metadata (setup.py) ... \u001b[?25l\u001b[?25hdone\n",
            "Requirement already satisfied: py4j==0.10.9.7 in /usr/local/lib/python3.10/dist-packages (from pyspark) (0.10.9.7)\n",
            "Building wheels for collected packages: pyspark\n",
            "  Building wheel for pyspark (setup.py) ... \u001b[?25l\u001b[?25hdone\n",
            "  Created wheel for pyspark: filename=pyspark-3.5.0-py2.py3-none-any.whl size=317425345 sha256=65baaa56034334864ae38d152e9431d54501e9a455601ec301351401ae3871ed\n",
            "  Stored in directory: /root/.cache/pip/wheels/41/4e/10/c2cf2467f71c678cfc8a6b9ac9241e5e44a01940da8fbb17fc\n",
            "Successfully built pyspark\n",
            "Installing collected packages: pyspark\n",
            "Successfully installed pyspark-3.5.0\n"
          ]
        }
      ],
      "source": [
        "pip install pyspark"
      ]
    },
    {
      "cell_type": "code",
      "source": [
        "from pyspark.sql import SparkSession\n",
        "from pyspark.sql.functions import row_number,col\n",
        "from pyspark.sql.window import Window\n",
        "\n",
        "spark = SparkSession.builder.appName(\"qa\").getOrCreate()\n",
        "\n",
        "data = [(\"A\", 28),\n",
        "        (\"B\", 35),\n",
        "        (\"C\", 42),\n",
        "        (\"D\", 25),\n",
        "        (\"E\", 31),\n",
        "        (\"F\", 38),\n",
        "        (\"G\", 45),\n",
        "        (\"H\", 29)]\n",
        "\n",
        "\n",
        "columns = [\"name\", \"age\"]\n",
        "df = spark.createDataFrame(data, columns)\n",
        "\n",
        "\n",
        "df.show()"
      ],
      "metadata": {
        "colab": {
          "base_uri": "https://localhost:8080/"
        },
        "id": "qYRCY_u6vDMF",
        "outputId": "0d9553c9-a059-432f-e587-874c56d09178"
      },
      "execution_count": 5,
      "outputs": [
        {
          "output_type": "stream",
          "name": "stdout",
          "text": [
            "+----+---+\n",
            "|name|age|\n",
            "+----+---+\n",
            "|   A| 28|\n",
            "|   B| 35|\n",
            "|   C| 42|\n",
            "|   D| 25|\n",
            "|   E| 31|\n",
            "|   F| 38|\n",
            "|   G| 45|\n",
            "|   H| 29|\n",
            "+----+---+\n",
            "\n"
          ]
        }
      ]
    },
    {
      "cell_type": "code",
      "source": [
        "window_spec = Window.orderBy(\"name\")\n",
        "df_with_index = df.withColumn(\"row_index\", row_number().over(window_spec))\n",
        "\n",
        "df_with_index.show()"
      ],
      "metadata": {
        "colab": {
          "base_uri": "https://localhost:8080/"
        },
        "id": "dZfGKCDBvH_k",
        "outputId": "3b58bbf0-10a4-4b71-f50d-3f1da2dc84bb"
      },
      "execution_count": 6,
      "outputs": [
        {
          "output_type": "stream",
          "name": "stdout",
          "text": [
            "+----+---+---------+\n",
            "|name|age|row_index|\n",
            "+----+---+---------+\n",
            "|   A| 28|        1|\n",
            "|   B| 35|        2|\n",
            "|   C| 42|        3|\n",
            "|   D| 25|        4|\n",
            "|   E| 31|        5|\n",
            "|   F| 38|        6|\n",
            "|   G| 45|        7|\n",
            "|   H| 29|        8|\n",
            "+----+---+---------+\n",
            "\n"
          ]
        }
      ]
    },
    {
      "cell_type": "code",
      "source": [
        "total_rows = df.count()\n",
        "\n",
        "\n",
        "start_index = int(total_rows * 0.5)  # Start at 50%\n",
        "end_index = int(total_rows * 0.75)   # End at 75%\n",
        "\n",
        "# Filter rows within the specified range\n",
        "\n",
        "filtered_df = df_with_index.filter((col(\"row_index\") > start_index) & (col(\"row_index\") <= end_index)).drop(\"row_index\")\n",
        "\n",
        "# Show the resulting DataFrame\n",
        "filtered_df.show()"
      ],
      "metadata": {
        "colab": {
          "base_uri": "https://localhost:8080/"
        },
        "id": "nfd28i1EvKjY",
        "outputId": "0ceb6115-2a59-4954-8835-9748db0b4da6"
      },
      "execution_count": 7,
      "outputs": [
        {
          "output_type": "stream",
          "name": "stdout",
          "text": [
            "+----+---+\n",
            "|name|age|\n",
            "+----+---+\n",
            "|   E| 31|\n",
            "|   F| 38|\n",
            "+----+---+\n",
            "\n"
          ]
        }
      ]
    }
  ]
}